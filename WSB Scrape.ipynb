{
 "cells": [
  {
   "cell_type": "code",
   "execution_count": 2,
   "id": "eacce11a-717f-4900-becd-dd9e4a0c14d5",
   "metadata": {},
   ],
   "source": [
    "import praw\n",
    "\n",
    "reddit = praw.Reddit(\n",
    "    client_id=\"YOUR_CLIENT_ID\",\n",
    "    client_secret=\"YOUR_CLIENT_SECRET\",\n",
    "    user_agent=\"my_user_agent\"\n",
    ")\n",
    "\n",
    "subreddit = reddit.subreddit(\"wallstreetbets\")\n",
    "\n",
    "for post in subreddit.hot(limit=10):\n",
    "    print(post.title)\n",
    "    print(post.selftext)"
   ]
  },
  {
   "cell_type": "code",
   "execution_count": null,
   "id": "438c8038-dc77-48d0-8084-860e2fb18796",
   "metadata": {},
   "outputs": [],
   "source": []
  }
 ],
 "metadata": {
  "kernelspec": {
   "display_name": "Python 3 (ipykernel)",
   "language": "python",
   "name": "python3"
  },
  "language_info": {
   "codemirror_mode": {
    "name": "ipython",
    "version": 3
   },
   "file_extension": ".py",
   "mimetype": "text/x-python",
   "name": "python",
   "nbconvert_exporter": "python",
   "pygments_lexer": "ipython3",
   "version": "3.13.2"
  }
 },
 "nbformat": 4,
 "nbformat_minor": 5
}
