{
 "cells": [
  {
   "cell_type": "code",
   "execution_count": 2,
   "id": "e496b329-67ee-4bb2-b7a6-6e8e3778f297",
   "metadata": {},
   "outputs": [],
   "source": [
    "# https://kalshi.com/market-data\n",
    "\n",
    "# Import modules\n",
    "import json\n",
    "import requests\n",
    "import pandas as pd\n",
    "import numpy as np\n",
    "import datetime\n",
    "from datetime import date, timedelta\n",
    "\n",
    "# Set dates\n",
    "daybefore = date.today() - timedelta(days=1)\n",
    "daybefore.strftime('%m%d%y')\n",
    "start_date = pd.to_datetime('2025-06-30')\n",
    "daterange = pd.date_range(start_date, daybefore).strftime('%Y-%m-%d').tolist()\n",
    "\n",
    "# Create list of dataframes\n",
    "list_of_dataframes = []\n",
    "\n",
    "# Loop through list of dates\n",
    "for i in daterange:\n",
    "\n",
    "\t# Pull in market data \n",
    "\tbase_url = \"https://kalshi-public-docs.s3.amazonaws.com/reporting/market_data_\"\n",
    "\tend_url = \".json\"\n",
    "\tURL = base_url + str(i) + end_url\n",
    "\tresponse = requests.get(URL)\n",
    "\tjsondata = response.json()\n",
    "\tdata = json.dumps(jsondata)\n",
    "\n",
    "\t# Convert JSON to dataframe\n",
    "\tdf = pd.DataFrame(eval(data))\n",
    "\t\n",
    "\t# Append to list of dataframes\n",
    "\tlist_of_dataframes.append(df)\n",
    "\n",
    "# Concatenate list of dataframes into df_all\n",
    "df_all = pd.concat(list_of_dataframes)\n",
    "\n",
    "# Reset index\n",
    "df_all.reset_index(level=0, inplace=True, drop=True)\n",
    "\n",
    "# Write out to local directory\n",
    "df_all.to_csv(r'./kalshi_all_markets_'+ str(daybefore) +'.csv', sep=',', encoding='utf-8', header='true')"
   ]
  },
  {
   "cell_type": "code",
   "execution_count": null,
   "id": "8c42030d-7ab1-4368-ba98-cf0512732075",
   "metadata": {},
   "outputs": [],
   "source": [
    "df.head()"
   ]
  }
 ],
 "metadata": {
  "kernelspec": {
   "display_name": "Python 3 (ipykernel)",
   "language": "python",
   "name": "python3"
  },
  "language_info": {
   "codemirror_mode": {
    "name": "ipython",
    "version": 3
   },
   "file_extension": ".py",
   "mimetype": "text/x-python",
   "name": "python",
   "nbconvert_exporter": "python",
   "pygments_lexer": "ipython3",
   "version": "3.13.2"
  }
 },
 "nbformat": 4,
 "nbformat_minor": 5
}
