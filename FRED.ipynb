{
 "cells": [
  {
   "cell_type": "code",
   "execution_count": 2,
   "id": "0befa7ec-d71d-4ac2-b033-97eb6d5a9654",
   "metadata": {},
   "outputs": [],
   "source": [
    "api_key = \"""
   ]
  },
  {
   "cell_type": "code",
   "execution_count": 3,
   "id": "46ba8cfb-e95d-456a-ba08-c1cedbd20693",
   "metadata": {},
   "outputs": [],
   "source": [
    "import fredapi as fa\n",
    "import pandas as pd\n",
    "\n",
    "# Set up your API key\n",
    "fred = fa.Fred(api_key)\n",
    "\n",
    "# Fetch a series of data\n",
    "series_id = 'UNRATE'  # Example: Civilian Unemployment Rate\n",
    "data = fred.get_series(series_id)\n",
    "\n",
    "# Convert the data to a DataFrame\n",
    "df = pd.DataFrame(data)"
   ]
  },
  {
   "cell_type": "code",
   "execution_count": 4,
   "id": "60c23bec-de35-4288-9bd1-631a19cf290b",
   "metadata": {},
   "outputs": [
    {
     "data": {
      "text/html": [
       "<div>\n",
       "<style scoped>\n",
       "    .dataframe tbody tr th:only-of-type {\n",
       "        vertical-align: middle;\n",
       "    }\n",
       "\n",
       "    .dataframe tbody tr th {\n",
       "        vertical-align: top;\n",
       "    }\n",
       "\n",
       "    .dataframe thead th {\n",
       "        text-align: right;\n",
       "    }\n",
       "</style>\n",
       "<table border=\"1\" class=\"dataframe\">\n",
       "  <thead>\n",
       "    <tr style=\"text-align: right;\">\n",
       "      <th></th>\n",
       "      <th>0</th>\n",
       "    </tr>\n",
       "  </thead>\n",
       "  <tbody>\n",
       "    <tr>\n",
       "      <th>1948-01-01</th>\n",
       "      <td>3.4</td>\n",
       "    </tr>\n",
       "    <tr>\n",
       "      <th>1948-02-01</th>\n",
       "      <td>3.8</td>\n",
       "    </tr>\n",
       "    <tr>\n",
       "      <th>1948-03-01</th>\n",
       "      <td>4.0</td>\n",
       "    </tr>\n",
       "    <tr>\n",
       "      <th>1948-04-01</th>\n",
       "      <td>3.9</td>\n",
       "    </tr>\n",
       "    <tr>\n",
       "      <th>1948-05-01</th>\n",
       "      <td>3.5</td>\n",
       "    </tr>\n",
       "    <tr>\n",
       "      <th>...</th>\n",
       "      <td>...</td>\n",
       "    </tr>\n",
       "    <tr>\n",
       "      <th>2025-02-01</th>\n",
       "      <td>4.1</td>\n",
       "    </tr>\n",
       "    <tr>\n",
       "      <th>2025-03-01</th>\n",
       "      <td>4.2</td>\n",
       "    </tr>\n",
       "    <tr>\n",
       "      <th>2025-04-01</th>\n",
       "      <td>4.2</td>\n",
       "    </tr>\n",
       "    <tr>\n",
       "      <th>2025-05-01</th>\n",
       "      <td>4.2</td>\n",
       "    </tr>\n",
       "    <tr>\n",
       "      <th>2025-06-01</th>\n",
       "      <td>4.1</td>\n",
       "    </tr>\n",
       "  </tbody>\n",
       "</table>\n",
       "<p>930 rows × 1 columns</p>\n",
       "</div>"
      ],
      "text/plain": [
       "              0\n",
       "1948-01-01  3.4\n",
       "1948-02-01  3.8\n",
       "1948-03-01  4.0\n",
       "1948-04-01  3.9\n",
       "1948-05-01  3.5\n",
       "...         ...\n",
       "2025-02-01  4.1\n",
       "2025-03-01  4.2\n",
       "2025-04-01  4.2\n",
       "2025-05-01  4.2\n",
       "2025-06-01  4.1\n",
       "\n",
       "[930 rows x 1 columns]"
      ]
     },
     "execution_count": 4,
     "metadata": {},
     "output_type": "execute_result"
    }
   ],
   "source": [
    "df"
   ]
  },
  {
   "cell_type": "code",
   "execution_count": 5,
   "id": "20b38dec-1b69-4ad2-9638-6c8764c83550",
   "metadata": {},
   "outputs": [
    {
     "name": "stdout",
     "output_type": "stream",
     "text": [
      "CPI Data:\n",
      "              CPI\n",
      "1947-01-01  21.48\n",
      "1947-02-01  21.62\n",
      "1947-03-01  22.00\n",
      "1947-04-01  22.00\n",
      "1947-05-01  21.95\n",
      "\n",
      "10-Year Treasury Rate Data:\n",
      "            10-Year Treasury Rate\n",
      "1962-01-02                   4.06\n",
      "1962-01-03                   4.03\n",
      "1962-01-04                   3.99\n",
      "1962-01-05                   4.02\n",
      "1962-01-08                   4.03\n"
     ]
    }
   ],
   "source": [
    "# Fetch Consumer Price Index (CPI) data\n",
    "cpi_series_id = 'CPIAUCSL'  # CPI for All Urban Consumers: All Items\n",
    "cpi_data = fred.get_series(cpi_series_id)\n",
    "\n",
    "# Fetch 10-Year Treasury Constant Maturity Rate data\n",
    "interest_rate_series_id = 'DGS10'  # 10-Year Treasury Constant Maturity Rate\n",
    "interest_rate_data = fred.get_series(interest_rate_series_id)\n",
    "\n",
    "# Convert the data to DataFrame for better readability\n",
    "cpi_df = pd.DataFrame(cpi_data, columns=['CPI'])\n",
    "interest_rate_df = pd.DataFrame(interest_rate_data, columns=['10-Year Treasury Rate'])\n",
    "\n",
    "# Display the first few rows of the data\n",
    "print(\"CPI Data:\")\n",
    "print(cpi_df.head())\n",
    "\n",
    "print(\"\\n10-Year Treasury Rate Data:\")\n",
    "print(interest_rate_df.head())\n",
    "#df = pd.merge(cpi_df, interest_rate_df)"
   ]
  },
  {
   "cell_type": "code",
   "execution_count": null,
   "id": "9ea6560e-0ea3-484f-b81f-e23199c05feb",
   "metadata": {},
   "outputs": [],
   "source": []
  }
 ],
 "metadata": {
  "kernelspec": {
   "display_name": "Python 3 (ipykernel)",
   "language": "python",
   "name": "python3"
  },
  "language_info": {
   "codemirror_mode": {
    "name": "ipython",
    "version": 3
   },
   "file_extension": ".py",
   "mimetype": "text/x-python",
   "name": "python",
   "nbconvert_exporter": "python",
   "pygments_lexer": "ipython3",
   "version": "3.13.2"
  }
 },
 "nbformat": 4,
 "nbformat_minor": 5
}
